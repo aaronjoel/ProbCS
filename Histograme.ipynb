{
 "metadata": {
  "name": "",
  "signature": "sha256:d0c3c5acea99901965b1a829b072946ba7d6db6f2648333e04f092e88cb17bf4"
 },
 "nbformat": 3,
 "nbformat_minor": 0,
 "worksheets": [
  {
   "cells": [
    {
     "cell_type": "heading",
     "level": 3,
     "metadata": {},
     "source": [
      "Generatori ai distributilor de probabilitate din Numpy. Histograme"
     ]
    },
    {
     "cell_type": "markdown",
     "metadata": {},
     "source": [
      "Biblioteca `numpy.random` contine functii ce implementeaza algoritmi de simulare a diverse distributii de probabilitate\n",
      "discrete sau continue.\n",
      "\n",
      "Numerele pseudo-aleatoare uniform distribuite pe $[0,1)$ sunt generate de functia\n",
      "`numpy.random.random()`, care se bazeaza pe generatorul Mersenne-Twister.\n",
      "Definitia functiei este:\n",
      "\n",
      "`numpy.random.random(size=None)`\n",
      "\n",
      "unde `size` este cuvantul cheie ce indica daca se returneaza un singur numar $u\\in[0,1)$ sau un array, ale carui dimensiuni se indica printr-un tuple.\n",
      "\n",
      "Seed-ul generatorului se poate seta printr-un numar intreg (vezi si codul `C` al generatorului Mersenne-Twister) astfel:\n",
      "`numpy.random.seed(numar)`."
     ]
    },
    {
     "cell_type": "code",
     "collapsed": false,
     "input": [
      "%matplotlib inline\n",
      "import numpy as np\n",
      "import matplotlib.pyplot as plt"
     ],
     "language": "python",
     "metadata": {},
     "outputs": [],
     "prompt_number": 51
    },
    {
     "cell_type": "code",
     "collapsed": false,
     "input": [
      "u=np.random.random()\n",
      "print u"
     ],
     "language": "python",
     "metadata": {},
     "outputs": [
      {
       "output_type": "stream",
       "stream": "stdout",
       "text": [
        "0.790276148014\n"
       ]
      }
     ],
     "prompt_number": 52
    },
    {
     "cell_type": "code",
     "collapsed": false,
     "input": [
      "v=np.random.random(5)\n",
      "print v"
     ],
     "language": "python",
     "metadata": {},
     "outputs": [
      {
       "output_type": "stream",
       "stream": "stdout",
       "text": [
        "[ 0.05824365  0.17535114  0.57101347  0.89201136  0.69023612]\n"
       ]
      }
     ],
     "prompt_number": 53
    },
    {
     "cell_type": "code",
     "collapsed": false,
     "input": [
      "A=np.random.random((2,3))\n",
      "print A"
     ],
     "language": "python",
     "metadata": {},
     "outputs": [
      {
       "output_type": "stream",
       "stream": "stdout",
       "text": [
        "[[ 0.54910455  0.78333343  0.09660432]\n",
        " [ 0.21142267  0.53578513  0.35479537]]\n"
       ]
      }
     ],
     "prompt_number": 54
    },
    {
     "cell_type": "markdown",
     "metadata": {},
     "source": [
      "Seed-ul  se seteaza in perioada de debugging a codului, pentru ca avandu-l setat in orice rulare se genereaza acelasi sir de numere."
     ]
    },
    {
     "cell_type": "markdown",
     "metadata": {},
     "source": [
      "Daca nu este setat explicit, atunci `Numpy` alege un seed aleator bazat pe momentul de timp al lansarii in executie a codului.\n"
     ]
    },
    {
     "cell_type": "markdown",
     "metadata": {},
     "source": [
      "Pentru a ilustra ca  o functie genereaza valori de observatie asupra unei variabile aleatoare de distributie prescrisa, se asociaza sirului de date histograma si se traseaza peste histograma graficul densitatii\n",
      "distributiei respective, pentru comparatie."
     ]
    },
    {
     "cell_type": "markdown",
     "metadata": {},
     "source": [
      "Sa generam de exemplu 2000 de valori de observatie asupra unei v.a. $U\\sim Unif[0,1)$ si apoi sa desenem\n",
      "                                                                            histograma datelor cu un numar prescris de bare.\n",
      "                                                                            "
     ]
    },
    {
     "cell_type": "markdown",
     "metadata": {},
     "source": [
      "Functia care genereaza histograma este:\n",
      "    \n",
      "`matplotlib.pyplot.hist()` pe care o apelam simplu, `plt.hist`.\n",
      "\n",
      "Argumentele si cuvintele cheie uzuale ale functiei sunt:\n",
      "- `x` este array-ul ce contine datele\n",
      "- `bins=10`  numarul de bare; implicit 10\n",
      "- `range=None`, `range` reprezinta limitele valorilor din x intre care generam histograma. Daca \n",
      "nu este setat, atunci se genereaza histograma datelor cuprinse in intervalul `[xmin, xmax]`.\n",
      "- `normed=False` (implicit) sau `True`; \n",
      "\n",
      "Daca  `normed=True`, atunci bara corespunzatoare fiecarui interval\n",
      "de divizare a datelor are aria egala cu (vezi algoritmul prezentat in Cursul 10):\n",
      "\n",
      "$\\displaystyle\\frac{nr.\\: valori\\: din\\: interval}{nr\\: total\\: de\\: valori}$\n",
      "\n",
      "Daca `normed=False`, atunci bara are aria egala cu lungimea bazei ori numarul de valori ce apartin intervalului corespunzator barei.\n",
      "\n",
      "- `color=None`; acest cuvant cheie seteaza culoarea barelor in histograma.\n",
      "\n",
      "\n"
     ]
    },
    {
     "cell_type": "code",
     "collapsed": false,
     "input": [
      "x=np.random.random(2000)\n",
      "histo=plt.hist(x, bins=15, normed=True, color='g')\n",
      "plt.plot([0,1], [1,1], 'r')# graficul densitatii uniforme pe [0,1)"
     ],
     "language": "python",
     "metadata": {},
     "outputs": [
      {
       "metadata": {},
       "output_type": "pyout",
       "prompt_number": 55,
       "text": [
        "[<matplotlib.lines.Line2D at 0xd4b9080>]"
       ]
      },
      {
       "metadata": {},
       "output_type": "display_data",
       "png": "[encoded data removed]",
       "text": [
        "<matplotlib.figure.Figure at 0xd4b95c0>"
       ]
      }
     ],
     "prompt_number": 55
    },
    {
     "cell_type": "markdown",
     "metadata": {},
     "source": [
      "Functia `np.random.exponential(theta, size=None)` returneaza valori de observatie asupra unei variabile aleatoare exponential distribuita, de parametru $\\theta=theta$.\n",
      "\n"
     ]
    },
    {
     "cell_type": "markdown",
     "metadata": {},
     "source": [
      "Sa definim functia densitate exponentiala:"
     ]
    },
    {
     "cell_type": "code",
     "collapsed": false,
     "input": [
      "def fexpo(theta, x):\n",
      "    return  np.exp(-x/theta)/theta"
     ],
     "language": "python",
     "metadata": {},
     "outputs": [],
     "prompt_number": 56
    },
    {
     "cell_type": "code",
     "collapsed": false,
     "input": [
      "theta=2.7\n",
      "N=2000# nr de valori generate\n",
      "x=np.random.exponential(theta, N)\n",
      "histo=plt.hist(x, bins=20, normed=True, color='g', alpha=0.6)\n",
      "xmin=np.min(x)\n",
      "xmax=np.max(x)\n",
      "M=100\n",
      "X=np.linspace(xmin, xmax, M)\n",
      "Y=fexpo(theta, X)\n",
      "plt.plot(X,Y, 'r')#traseaza graficul densitatii exponentiale"
     ],
     "language": "python",
     "metadata": {},
     "outputs": [
      {
       "metadata": {},
       "output_type": "pyout",
       "prompt_number": 57,
       "text": [
        "[<matplotlib.lines.Line2D at 0xd4a04e0>]"
       ]
      },
      {
       "metadata": {},
       "output_type": "display_data",
       "png": "[encoded data removed]",
       "text": [
        "<matplotlib.figure.Figure at 0xd4a0ef0>"
       ]
      }
     ],
     "prompt_number": 57
    },
    {
     "cell_type": "markdown",
     "metadata": {},
     "source": [
      "La proiectul in `C/C++`, valorile generate vor fi salvate intr-un fisier text, care apoi este citit\n",
      "in Python pentru a afisa histograma/ele sau alte obiecte grafice.\n",
      "\n",
      "Dam un exemplu de citire a unui fisier text, salvat in directorul curent si apoi generam histograma datelor\n",
      "citite.\n",
      "\n"
     ]
    },
    {
     "cell_type": "code",
     "collapsed": false,
     "input": [
      "val = np.loadtxt(\"Vizite.txt\")\n",
      "histog=plt.hist(val,bins=100, normed=True, color='r')"
     ],
     "language": "python",
     "metadata": {},
     "outputs": [
      {
       "metadata": {},
       "output_type": "display_data",
       "png": "[encoded data removed]",
       "text": [
        "<matplotlib.figure.Figure at 0xb6f9128>"
       ]
      }
     ],
     "prompt_number": 58
    },
    {
     "cell_type": "markdown",
     "metadata": {},
     "source": [
      "Fisierul `Vizite.txt` contine numarul de vizite ale site-urilor monitorizate de [sati](http://www.brat.ro/sati/rezultate/type/site-ro/period_type/month/period_filter/2014-3/category/all/editor/all) in luna martie."
     ]
    },
    {
     "cell_type": "markdown",
     "metadata": {},
     "source": [
      "Remarcam in histograma alura distributiei Zipf (vezi Cursul 10).  Siteurile avand popularitatea mare atrag\n",
      "o proportie mare din trafic."
     ]
    },
    {
     "cell_type": "markdown",
     "metadata": {},
     "source": [
      "E. Petrisor, UPT"
     ]
    },
    {
     "cell_type": "code",
     "collapsed": false,
     "input": [
      "from IPython.core.display import HTML\n",
      "def  css_styling():\n",
      "    styles = open(\"./styles/custom.css\", \"r\").read()\n",
      "    return HTML(styles)\n",
      "css_styling()"
     ],
     "language": "python",
     "metadata": {},
     "outputs": [
      {
       "html": [
        "<style>\n",
        "    @font-face {\n",
        "        font-family: \"Computer Modern\";\n",
        "        src: url('http://mirrors.ctan.org/fonts/cm-unicode/fonts/otf/cmunss.otf');\n",
        "    }\n",
        "    div.cell{\n",
        "        width:800px;\n",
        "        margin-left:16% !important;\n",
        "        margin-right:auto;\n",
        "    }\n",
        "    h1 {\n",
        "        font-family: Helvetica, serif;\n",
        "    }\n",
        "    h4{\n",
        "        margin-top:12px;\n",
        "        margin-bottom: 3px;\n",
        "       }\n",
        "    div.text_cell_render{\n",
        "        font-family: Computer Modern, \"Helvetica Neue\", Arial, Helvetica, Geneva, sans-serif;\n",
        "        line-height: 145%;\n",
        "        font-size: 130%;\n",
        "        width:800px;\n",
        "        margin-left:auto;\n",
        "        margin-right:auto;\n",
        "    }\n",
        "    .CodeMirror{\n",
        "            font-family: \"Source Code Pro\", source-code-pro,Consolas, monospace;\n",
        "    }\n",
        "    .prompt{\n",
        "        display: None;\n",
        "    }\n",
        "    .text_cell_render h5 {\n",
        "        font-weight: 300;\n",
        "        font-size: 22pt;\n",
        "        color: #4057A1;\n",
        "        font-style: italic;\n",
        "        margin-bottom: .5em;\n",
        "        margin-top: 0.5em;\n",
        "        display: block;\n",
        "    }\n",
        "    \n",
        "    .warning{\n",
        "        color: rgb( 240, 20, 20 )\n",
        "        }  \n",
        "</style>\n",
        "<script>\n",
        "    MathJax.Hub.Config({\n",
        "                        TeX: {\n",
        "                           extensions: [\"AMSmath.js\"]\n",
        "                           },\n",
        "                tex2jax: {\n",
        "                    inlineMath: [ ['$','$'], [\"\\\\(\",\"\\\\)\"] ],\n",
        "                    displayMath: [ ['$$','$$'], [\"\\\\[\",\"\\\\]\"] ]\n",
        "                },\n",
        "                displayAlign: 'center', // Change this to 'center' to center equations.\n",
        "                \"HTML-CSS\": {\n",
        "                    styles: {'.MathJax_Display': {\"margin\": 4}}\n",
        "                }\n",
        "        });\n",
        "</script>\n"
       ],
       "metadata": {},
       "output_type": "pyout",
       "prompt_number": 59,
       "text": [
        "<IPython.core.display.HTML at 0xc2c07b8>"
       ]
      }
     ],
     "prompt_number": 59
    }
   ],
   "metadata": {}
  }
 ]
}