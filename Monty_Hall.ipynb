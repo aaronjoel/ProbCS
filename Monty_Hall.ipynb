{
 "metadata": {
  "name": ""
 },
 "nbformat": 3,
 "nbformat_minor": 0,
 "worksheets": [
  {
   "cells": [
    {
     "cell_type": "heading",
     "level": 3,
     "metadata": {},
     "source": [
      "Let's Make a Deal!!!"
     ]
    },
    {
     "cell_type": "markdown",
     "metadata": {},
     "source": [
      "Problema cunoscuta sub numele *Monty Hall* sau *Let's make a deal* este o problema de probabilitati a carei solutie\n",
      "pare nefireasca. Ea este legata de emisiunile/spectacolele TV cu aceste [nume](http://en.wikipedia.org/wiki/Monty_Hall_problem).\n",
      "\n"
     ]
    },
    {
     "cell_type": "heading",
     "level": 4,
     "metadata": {},
     "source": [
      "Formularea problemei:"
     ]
    },
    {
     "cell_type": "markdown",
     "metadata": {},
     "source": [
      "Emisiune concurs: in spatele a trei usi este plasata o masina (sau un bilet de vacanta,\n",
      "o suma mare de bani), respectiv doua capre (sau orice altceva avand o valoare cu mult mai redusa fata de oferta din spatele usii cu valoare).\n",
      "\n",
      "Concurentul alege o usa, dar nu o deschide. Prezentatorul in schimb deschide o alta usa in spatele careia stie sigur ca este o capra si apoi il   intreaba pe concurent: vrei sa schimbi usa?\n",
      "\n",
      "Intrebarea careia incercam sa-i raspundem teoretic si prin simularea jocului este urmatoarea: ar trebui sa schimbe concurentul usa pentru a-si mari sansa de a o nimeri pe cea \"valoroasa\"?\n",
      "   "
     ]
    },
    {
     "cell_type": "markdown",
     "metadata": {},
     "source": [
      "Video-ul urmator prezinta ideea de baza a concursului *Let's make a deal*:"
     ]
    },
    {
     "cell_type": "code",
     "collapsed": false,
     "input": [
      "from IPython.display import YouTubeVideo\n",
      "YouTubeVideo('mhlc7peGlGg#t=15')"
     ],
     "language": "python",
     "metadata": {},
     "outputs": [
      {
       "html": [
        "\n",
        "        <iframe\n",
        "            width=\"400\"\n",
        "            height=300\"\n",
        "            src=\"https://www.youtube.com/embed/mhlc7peGlGg#t=15\"\n",
        "            frameborder=\"0\"\n",
        "            allowfullscreen\n",
        "        ></iframe>\n",
        "        "
       ],
       "metadata": {},
       "output_type": "pyout",
       "prompt_number": 1,
       "text": [
        "<IPython.lib.display.YouTubeVideo at 0x499a978>"
       ]
      }
     ],
     "prompt_number": 1
    },
    {
     "cell_type": "heading",
     "level": 4,
     "metadata": {},
     "source": [
      "Solutia  pe care ar da-o un necunoscator al teoriei probabilitatilor:"
     ]
    },
    {
     "cell_type": "markdown",
     "metadata": {},
     "source": [
      "Codificam masina cu \"m\" si capra cu \"c\". Avem $3$  posibilitati de plasare a masinii si celor doua capre\n",
      "in trei incaperi:\n",
      "    \n",
      "$\\Omega=\\{(m, c, c),   (c, m, c), (c, c, m)\\}$  "
     ]
    },
    {
     "cell_type": "markdown",
     "metadata": {},
     "source": [
      "Daca concurentul alege o usa la intamplare el are sansa de a castiga de $1/3$.\n",
      "\n",
      "Dupa ce i s-a aratat o usa in care este o capra, suntem tentati sa spunem ca sansa de a castiga, alegand oricare din usile ramase\n",
      "este:\n",
      "\n",
      "$P(\\mbox{castig}|U_d=c)=1/2$, unde  $(U_d=c)$  este evenimentul ca in spatele usii deschise de prezentator sa fie o capra.\n",
      "\n",
      "Cu alte cuvinte, rationamentul comun conduce la ideea ca  n-are importanta daca concurentul pastreaza usa aleasa sau schimba usa.  Dar este incorect!!!!!"
     ]
    },
    {
     "cell_type": "heading",
     "level": 4,
     "metadata": {},
     "source": [
      "Solutia folosind formula formula lui Bayes"
     ]
    },
    {
     "cell_type": "markdown",
     "metadata": {},
     "source": [
      "Notam cu  $H_k$, $k=1,2,3$, evenimentele ipoteze, ca amplasarea in spatele celor trei usi\n",
      "este respectiv $(m,c,c)$, $(c,m,c)$, $(c,c,m)$. \n",
      "\n",
      "Probabilitatile apriori ale acestor ipoteze sunt\n",
      "$P(H_k)=1/3$, $k=1,2,3$.\n",
      "\n"
     ]
    },
    {
     "cell_type": "markdown",
     "metadata": {},
     "source": [
      "\n",
      "Presupunem pentru simplitatea prezentarii ca concurentul alege usa 1, iar prezentatorul deschide usa 2, in spatele careia stie sigur ca este o capra.\n",
      "\n"
     ]
    },
    {
     "cell_type": "heading",
     "level": 4,
     "metadata": {},
     "source": [
      "Calculul probabilitatii de a castiga daca concurentul nu schimba usa aleasa"
     ]
    },
    {
     "cell_type": "markdown",
     "metadata": {},
     "source": [
      "Conform formulei lui Bayes, probabilitatea ca masina sa fie plasata in spatele usii alese\n",
      "de concurent, rectificata de informatia ca in spatele usii $2$ e o capra este:\n",
      "\n",
      "$P(H_1|U_2)=\\displaystyle\\frac{P(H_1)P(U_2|H_1)}{P(H_1)P(U_2|H_1)+P(H_2)P(U_2|H_2)+P(H_3)P(U_2|H_3)}$\n",
      "\n",
      "\n",
      "Deoarece $P(U_2|H_2)=0$ (adica stiind ca masina este in spatele usii 2, probabilitatea ca prezentatorul  sa deschida aceasta usa este 0), avem:\n",
      "\n",
      "$P(H_1|U_2)=\\displaystyle\\frac{P(H_1)P(U_2|H_1)}{P(H_1)P(U_2|H_1)+P(H_3)P(U_2|H_3)}$"
     ]
    },
    {
     "cell_type": "markdown",
     "metadata": {},
     "source": [
      " $P(U_2|H_1)=1/2$, deoarece stiind ca masina este in spatele usii 1 (avem conditionare de evenimentul $H_1)$) prezentatorul alege uniform intre cele doua usi $2$ si $3$. \n",
      "\n",
      "Daca deschiderea unei usi este conditionata de $H_3$, adica stie ca in spatele usii 3 este masina, iar concurentul a ales usa 1, nu-i ramane decat sa deschida usa 2, si nici intr-un caz usa 3. Prin urmare avem\n",
      "$P(U_2|H_3)=1$.\n",
      "\n",
      "Inlocuind in formula lui Bayes rezulta ca:\n",
      "\n",
      "\n",
      "$P(H_1|U_2)=\\displaystyle\\frac{(1/3)(1/2)}{(1/3)(1/2)+(1/3) 1}=\\displaystyle\\frac{1/6}{1/6+1/3}=1/3$"
     ]
    },
    {
     "cell_type": "markdown",
     "metadata": {},
     "source": [
      "Deoarece   $H_1\\cup H_2\\cup H_3=\\Omega$,  avem ca:\n",
      "$P_{U_2}(H_1\\cup H_2\\cup H_3)=P_{U_2}(\\Omega)=1$. \n",
      "\n",
      "Ipotezele $H_1, H_2, H_3$ fiind  mutual exclusive, iar functia  $P_{U_2}$ fiind o functie  functie de probabilitate, rezulta ca:\n",
      "    \n",
      "$P(H_1|U_2)+P(H_2|U_2)+P(H_3|U_2)=1$.\n",
      "\n",
      "Evident,  $P(H_2|U_2)=0$ si astfel probabilitatea ca masina sa fie in spatele usii 3, stiind ca in spatele celei de-a doua este o capra, este:\n",
      "    \n",
      "$P(H_3|U_2)=1-P(H_1|U_2)=1-1/3=2/3$.\n",
      "\n",
      "Deci daca  concurentul se hotaraste sa schimbe usa  1, aleasa initial, cu unica posibilitate, adica usa 3, atunci  sansa de a castiga masina este  dubla fata de cazul in care pastreaza usa initiala."
     ]
    },
    {
     "cell_type": "markdown",
     "metadata": {},
     "source": [
      "Rationamentul si rezultatul este identic pentru orice alta alegere a concurentului si respectiv a prezentatorului."
     ]
    },
    {
     "cell_type": "heading",
     "level": 4,
     "metadata": {},
     "source": [
      "Simularea  jocului Monty Hall"
     ]
    },
    {
     "cell_type": "markdown",
     "metadata": {},
     "source": [
      "Sa ilustram acest rezultat prin simulare in `Python` a jocului. Adica repetam experimentul alegerii\n",
      "de un numar $Nrexp$ de ori, fie cu optiunea de schimabare a usii alese initial, fie fara schimbare si numaram de cate ori castiga, adica nimereste usa ce are in spatele ei o masina."
     ]
    },
    {
     "cell_type": "code",
     "collapsed": false,
     "input": [
      "import random as rnd"
     ],
     "language": "python",
     "metadata": {},
     "outputs": [],
     "prompt_number": 2
    },
    {
     "cell_type": "code",
     "collapsed": false,
     "input": [
      "def alegeUsa(H): #alege dintr-o lista de 3 elemente din care doua sunt 'c' si una 'm'\n",
      "    Conc=H.pop(rnd.randint(0, 2))#alegerea concurentului\n",
      "    Prez= H.pop(H.index('c'))#alegerea prezentatorului\n",
      "    return Conc, Prez\n"
     ],
     "language": "python",
     "metadata": {},
     "outputs": [],
     "prompt_number": 3
    },
    {
     "cell_type": "markdown",
     "metadata": {},
     "source": [
      "De exemplu, daca `H=['c', 'm', 'c']` atunci `rnd.randint(0,2)` genereaza aleator un indice $i$ al \n",
      "elementelor listei. \n",
      "\n",
      "`H.pop(i)` returneaza\n",
      "elementul `H[i]` si il sterge din lista (vezi \n",
      "[aici](http://docs.python.org/2/tutorial/datastructures.html) metode pentru liste).\n",
      "\n",
      "Ilustrarea prin rularea liniilor de cod aferente:"
     ]
    },
    {
     "cell_type": "code",
     "collapsed": false,
     "input": [
      "H=['c', 'm', 'c']\n",
      "Conc=H.pop(rnd.randint(0, 2))\n",
      "print Conc\n",
      "print H\n"
     ],
     "language": "python",
     "metadata": {},
     "outputs": [
      {
       "output_type": "stream",
       "stream": "stdout",
       "text": [
        "c\n",
        "['c', 'm']\n"
       ]
      }
     ],
     "prompt_number": 4
    },
    {
     "cell_type": "markdown",
     "metadata": {},
     "source": [
      "`H.index('c')` returneaza  indicele primului element  din lista ramasa, care este egal cu 'c' si astfel prezentatorul\n",
      "alege o usa in spatele careia este o capra: `Prez=H.pop(H.index('c'))`. \n",
      "\n",
      "Dupa aceasta linie in lista `H`\n",
      "ramane doar un singur element."
     ]
    },
    {
     "cell_type": "code",
     "collapsed": false,
     "input": [
      "def Monty_Hall(schimba, Nrexp):\n",
      "    #schimba este o variabila booleana care indica optiunea jucatorului: schimba usa \n",
      "    #sau nu schimba usa aleasa\n",
      "    #Nerexp este numarul de repetari ale jocului pentru  acalcula frecventa castigului\n",
      "    \n",
      "    J=[['m', 'c', 'c'], ['c', 'm', 'c'], ['c', 'c', 'm']]#cele 3 posibilitati de amplasare\n",
      "                                                         #a masinii\n",
      "    nrcastig=0\n",
      "    if(schimba):\n",
      "        for n in range(0, Nrexp):\n",
      "           H = J[rnd.randint(0,2)]*1 # Alege o varianta de amplasare a masinii\n",
      "                           #rnd.randint(a,b) alege la intamplare un numar intreg, n, a<=n<=b\n",
      "           Conc, Prez=alegeUsa(H)\n",
      "           schimbU = H.pop(0) #in lista mai exista un singur element si aceasta este alegerea noua\n",
      "   \n",
      "           if schimbU == 'm':\n",
      "              nrcastig += 1\n",
      "   \n",
      "        print \"Probabilitatea sa castige daca  schimba usa aleasa=\", float(nrcastig)/Nrexp \n",
      "    \n",
      "    else:\n",
      "        for n in range(0, Nrexp):\n",
      "           H = J[rnd.randint(0,2)]*1 # Alege o varianta de amplasare\n",
      "                           #rnd.randint(a,b) alege la intamplare un numar intreg, n, a<=n<=b\n",
      "           Conc, Prez=alegeUsa(H)\n",
      "           if Conc == 'm': \n",
      "              nrcastig += 1\n",
      "        print \"Probabilitatea sa castige daca nu  schimba usa aleasa=\", float(nrcastig)/Nrexp"
     ],
     "language": "python",
     "metadata": {},
     "outputs": [],
     "prompt_number": 5
    },
    {
     "cell_type": "markdown",
     "metadata": {},
     "source": [
      "Inainte de apela functia Monty_Hall sa sintetizam principiul de implementare:\n",
      "    \n",
      "- Jocul se repeta de Nrexp ori, fie cu optiunea alege o noua usa dupa ce prezentatorul a deschis usa cu capra, fie nu alege.\n",
      "- La inceputul jocului se alege la intamplare o varianta de amplasare a masinii (din cele 3 posibile)\n",
      "- functia `alegeUsa` face alegerea aleatoare a usii pentru concurent si pentru prezentator."
     ]
    },
    {
     "cell_type": "heading",
     "level": 4,
     "metadata": {},
     "source": [
      "Testarea functiei `Monty_Hall`"
     ]
    },
    {
     "cell_type": "code",
     "collapsed": false,
     "input": [
      "Monty_Hall(1, 1000) #apelez functia cu optiunea de schimba usa dupa ce prezentaorul a aratat capra\n"
     ],
     "language": "python",
     "metadata": {},
     "outputs": [
      {
       "output_type": "stream",
       "stream": "stdout",
       "text": [
        "Probabilitatea sa castige daca  schimba usa aleasa= 0.648\n"
       ]
      }
     ],
     "prompt_number": 6
    },
    {
     "cell_type": "code",
     "collapsed": false,
     "input": [
      "Monty_Hall(1, 5000)"
     ],
     "language": "python",
     "metadata": {},
     "outputs": [
      {
       "output_type": "stream",
       "stream": "stdout",
       "text": [
        "Probabilitatea sa castige daca  schimba usa aleasa= 0.6638\n"
       ]
      }
     ],
     "prompt_number": 7
    },
    {
     "cell_type": "code",
     "collapsed": false,
     "input": [
      "Monty_Hall(0, 1000)"
     ],
     "language": "python",
     "metadata": {},
     "outputs": [
      {
       "output_type": "stream",
       "stream": "stdout",
       "text": [
        "Probabilitatea sa castige daca nu  schimba usa aleasa= 0.362\n"
       ]
      }
     ],
     "prompt_number": 8
    },
    {
     "cell_type": "code",
     "collapsed": false,
     "input": [
      "Monty_Hall(0,7000)"
     ],
     "language": "python",
     "metadata": {},
     "outputs": [
      {
       "output_type": "stream",
       "stream": "stdout",
       "text": [
        "Probabilitatea sa castige daca nu  schimba usa aleasa= 0.323142857143\n"
       ]
      }
     ],
     "prompt_number": 9
    },
    {
     "cell_type": "markdown",
     "metadata": {},
     "source": [
      "Orice varianta ati incerca, probabilitatea de castig este aproximativ 0.33, daca nu schimba usa aleasa initial\n",
      "si respectiv aproximativ  0.66, daca o schimba."
     ]
    },
    {
     "cell_type": "markdown",
     "metadata": {},
     "source": [
      "Deci daca jucati, alegeti sa schimbati usa!!"
     ]
    },
    {
     "cell_type": "markdown",
     "metadata": {},
     "source": [
      "... si in final, solutia data de [xkcd](https://xkcd.com/1282/)"
     ]
    },
    {
     "cell_type": "code",
     "collapsed": false,
     "input": [
      "from IPython.display import Image\n",
      "\n",
      "Image(url='http://imgs.xkcd.com/comics/monty_hall.png')"
     ],
     "language": "python",
     "metadata": {},
     "outputs": [
      {
       "html": [
        "<img src=\"http://imgs.xkcd.com/comics/monty_hall.png\"/>"
       ],
       "metadata": {},
       "output_type": "pyout",
       "prompt_number": 10,
       "text": [
        "<IPython.core.display.Image at 0x499a748>"
       ]
      }
     ],
     "prompt_number": 10
    },
    {
     "cell_type": "markdown",
     "metadata": {},
     "source": [
      "Emilia Petrisor, UPT"
     ]
    },
    {
     "cell_type": "code",
     "collapsed": false,
     "input": [
      "from IPython.core.display import HTML\n",
      "def  css_styling():\n",
      "    styles = open(\"./styles/custom.css\", \"r\").read()\n",
      "    return HTML(styles)\n",
      "css_styling()"
     ],
     "language": "python",
     "metadata": {},
     "outputs": [
      {
       "html": [
        "<style>\n",
        "    @font-face {\n",
        "        font-family: \"Computer Modern\";\n",
        "        src: url('http://mirrors.ctan.org/fonts/cm-unicode/fonts/otf/cmunss.otf');\n",
        "    }\n",
        "    div.cell{\n",
        "        width:800px;\n",
        "        margin-left:16% !important;\n",
        "        margin-right:auto;\n",
        "    }\n",
        "    h1 {\n",
        "        font-family: Helvetica, serif;\n",
        "    }\n",
        "    h4{\n",
        "        margin-top:12px;\n",
        "        margin-bottom: 3px;\n",
        "       }\n",
        "    div.text_cell_render{\n",
        "        font-family: Computer Modern, \"Helvetica Neue\", Arial, Helvetica, Geneva, sans-serif;\n",
        "        line-height: 145%;\n",
        "        font-size: 130%;\n",
        "        width:800px;\n",
        "        margin-left:auto;\n",
        "        margin-right:auto;\n",
        "    }\n",
        "    .CodeMirror{\n",
        "            font-family: \"Source Code Pro\", source-code-pro,Consolas, monospace;\n",
        "    }\n",
        "    .prompt{\n",
        "        display: None;\n",
        "    }\n",
        "    .text_cell_render h5 {\n",
        "        font-weight: 300;\n",
        "        font-size: 22pt;\n",
        "        color: #4057A1;\n",
        "        font-style: italic;\n",
        "        margin-bottom: .5em;\n",
        "        margin-top: 0.5em;\n",
        "        display: block;\n",
        "    }\n",
        "    \n",
        "    .warning{\n",
        "        color: rgb( 240, 20, 20 )\n",
        "        }  \n",
        "</style>\n",
        "<script>\n",
        "    MathJax.Hub.Config({\n",
        "                        TeX: {\n",
        "                           extensions: [\"AMSmath.js\"]\n",
        "                           },\n",
        "                tex2jax: {\n",
        "                    inlineMath: [ ['$','$'], [\"\\\\(\",\"\\\\)\"] ],\n",
        "                    displayMath: [ ['$$','$$'], [\"\\\\[\",\"\\\\]\"] ]\n",
        "                },\n",
        "                displayAlign: 'center', // Change this to 'center' to center equations.\n",
        "                \"HTML-CSS\": {\n",
        "                    styles: {'.MathJax_Display': {\"margin\": 4}}\n",
        "                }\n",
        "        });\n",
        "</script>\n"
       ],
       "metadata": {},
       "output_type": "pyout",
       "prompt_number": 11,
       "text": [
        "<IPython.core.display.HTML at 0x499ae80>"
       ]
      }
     ],
     "prompt_number": 11
    }
   ],
   "metadata": {}
  }
 ]
}